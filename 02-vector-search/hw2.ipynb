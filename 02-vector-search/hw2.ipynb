{
 "cells": [
  {
   "cell_type": "code",
   "execution_count": 2,
   "metadata": {},
   "outputs": [
    {
     "name": "stdout",
     "output_type": "stream",
     "text": [
      "Requirement already satisfied: fastembed in /usr/local/python/3.12.1/lib/python3.12/site-packages (0.7.1)\n",
      "Requirement already satisfied: huggingface-hub<1.0,>=0.20 in /usr/local/python/3.12.1/lib/python3.12/site-packages (from fastembed) (0.33.2)\n",
      "Requirement already satisfied: loguru<0.8.0,>=0.7.2 in /usr/local/python/3.12.1/lib/python3.12/site-packages (from fastembed) (0.7.3)\n",
      "Requirement already satisfied: mmh3<6.0.0,>=4.1.0 in /usr/local/python/3.12.1/lib/python3.12/site-packages (from fastembed) (5.1.0)\n",
      "Requirement already satisfied: numpy>=1.26 in /home/codespace/.local/lib/python3.12/site-packages (from fastembed) (2.2.6)\n",
      "Requirement already satisfied: onnxruntime!=1.20.0,>=1.17.0 in /usr/local/python/3.12.1/lib/python3.12/site-packages (from fastembed) (1.22.0)\n",
      "Requirement already satisfied: pillow<12.0.0,>=10.3.0 in /home/codespace/.local/lib/python3.12/site-packages (from fastembed) (11.2.1)\n",
      "Requirement already satisfied: py-rust-stemmers<0.2.0,>=0.1.0 in /usr/local/python/3.12.1/lib/python3.12/site-packages (from fastembed) (0.1.5)\n",
      "Requirement already satisfied: requests<3.0,>=2.31 in /home/codespace/.local/lib/python3.12/site-packages (from fastembed) (2.32.3)\n",
      "Requirement already satisfied: tokenizers<1.0,>=0.15 in /usr/local/python/3.12.1/lib/python3.12/site-packages (from fastembed) (0.21.2)\n",
      "Requirement already satisfied: tqdm<5.0,>=4.66 in /usr/local/python/3.12.1/lib/python3.12/site-packages (from fastembed) (4.67.1)\n",
      "Requirement already satisfied: filelock in /home/codespace/.local/lib/python3.12/site-packages (from huggingface-hub<1.0,>=0.20->fastembed) (3.13.1)\n",
      "Requirement already satisfied: fsspec>=2023.5.0 in /home/codespace/.local/lib/python3.12/site-packages (from huggingface-hub<1.0,>=0.20->fastembed) (2024.6.1)\n",
      "Requirement already satisfied: packaging>=20.9 in /home/codespace/.local/lib/python3.12/site-packages (from huggingface-hub<1.0,>=0.20->fastembed) (25.0)\n",
      "Requirement already satisfied: pyyaml>=5.1 in /home/codespace/.local/lib/python3.12/site-packages (from huggingface-hub<1.0,>=0.20->fastembed) (6.0.2)\n",
      "Requirement already satisfied: typing-extensions>=3.7.4.3 in /home/codespace/.local/lib/python3.12/site-packages (from huggingface-hub<1.0,>=0.20->fastembed) (4.13.2)\n",
      "Requirement already satisfied: hf-xet<2.0.0,>=1.1.2 in /usr/local/python/3.12.1/lib/python3.12/site-packages (from huggingface-hub<1.0,>=0.20->fastembed) (1.1.5)\n",
      "Requirement already satisfied: charset-normalizer<4,>=2 in /home/codespace/.local/lib/python3.12/site-packages (from requests<3.0,>=2.31->fastembed) (3.4.2)\n",
      "Requirement already satisfied: idna<4,>=2.5 in /home/codespace/.local/lib/python3.12/site-packages (from requests<3.0,>=2.31->fastembed) (3.10)\n",
      "Requirement already satisfied: urllib3<3,>=1.21.1 in /home/codespace/.local/lib/python3.12/site-packages (from requests<3.0,>=2.31->fastembed) (2.4.0)\n",
      "Requirement already satisfied: certifi>=2017.4.17 in /home/codespace/.local/lib/python3.12/site-packages (from requests<3.0,>=2.31->fastembed) (2025.4.26)\n",
      "Requirement already satisfied: coloredlogs in /usr/local/python/3.12.1/lib/python3.12/site-packages (from onnxruntime!=1.20.0,>=1.17.0->fastembed) (15.0.1)\n",
      "Requirement already satisfied: flatbuffers in /usr/local/python/3.12.1/lib/python3.12/site-packages (from onnxruntime!=1.20.0,>=1.17.0->fastembed) (25.2.10)\n",
      "Requirement already satisfied: protobuf in /usr/local/python/3.12.1/lib/python3.12/site-packages (from onnxruntime!=1.20.0,>=1.17.0->fastembed) (6.31.1)\n",
      "Requirement already satisfied: sympy in /home/codespace/.local/lib/python3.12/site-packages (from onnxruntime!=1.20.0,>=1.17.0->fastembed) (1.13.3)\n",
      "Requirement already satisfied: humanfriendly>=9.1 in /usr/local/python/3.12.1/lib/python3.12/site-packages (from coloredlogs->onnxruntime!=1.20.0,>=1.17.0->fastembed) (10.0)\n",
      "Requirement already satisfied: mpmath<1.4,>=1.1.0 in /home/codespace/.local/lib/python3.12/site-packages (from sympy->onnxruntime!=1.20.0,>=1.17.0->fastembed) (1.3.0)\n"
     ]
    }
   ],
   "source": [
    "!pip install fastembed\n",
    "!python -m pip install -q \"qdrant-client[fastembed]>=1.14.2\""
   ]
  },
  {
   "cell_type": "code",
   "execution_count": 3,
   "metadata": {},
   "outputs": [
    {
     "name": "stderr",
     "output_type": "stream",
     "text": [
      "/usr/local/python/3.12.1/lib/python3.12/site-packages/tqdm/auto.py:21: TqdmWarning: IProgress not found. Please update jupyter and ipywidgets. See https://ipywidgets.readthedocs.io/en/stable/user_install.html\n",
      "  from .autonotebook import tqdm as notebook_tqdm\n"
     ]
    }
   ],
   "source": [
    "from fastembed import TextEmbedding\n",
    "from qdrant_client import QdrantClient, models\n",
    "import requests"
   ]
  },
  {
   "cell_type": "code",
   "execution_count": 5,
   "metadata": {},
   "outputs": [
    {
     "name": "stdout",
     "output_type": "stream",
     "text": [
      "{'model': 'jinaai/jina-clip-v1', 'sources': {'hf': 'jinaai/jina-clip-v1', 'url': None, '_deprecated_tar_struct': False}, 'model_file': 'onnx/text_model.onnx', 'description': 'Text embeddings, Multimodal (text&image), English, Prefixes for queries/documents: not necessary, 2024 year', 'license': 'apache-2.0', 'size_in_GB': 0.55, 'additional_files': [], 'dim': 768, 'tasks': {}}\n",
      "{'model': 'jinaai/jina-embeddings-v2-base-en', 'sources': {'hf': 'xenova/jina-embeddings-v2-base-en', 'url': None, '_deprecated_tar_struct': False}, 'model_file': 'onnx/model.onnx', 'description': 'Text embeddings, Unimodal (text), English, 8192 input tokens truncation, Prefixes for queries/documents: not necessary, 2023 year.', 'license': 'apache-2.0', 'size_in_GB': 0.52, 'additional_files': [], 'dim': 768, 'tasks': {}}\n",
      "{'model': 'jinaai/jina-embeddings-v2-small-en', 'sources': {'hf': 'xenova/jina-embeddings-v2-small-en', 'url': None, '_deprecated_tar_struct': False}, 'model_file': 'onnx/model.onnx', 'description': 'Text embeddings, Unimodal (text), English, 8192 input tokens truncation, Prefixes for queries/documents: not necessary, 2023 year.', 'license': 'apache-2.0', 'size_in_GB': 0.12, 'additional_files': [], 'dim': 512, 'tasks': {}}\n",
      "{'model': 'jinaai/jina-embeddings-v2-base-de', 'sources': {'hf': 'jinaai/jina-embeddings-v2-base-de', 'url': None, '_deprecated_tar_struct': False}, 'model_file': 'onnx/model_fp16.onnx', 'description': 'Text embeddings, Unimodal (text), Multilingual (German, English), 8192 input tokens truncation, Prefixes for queries/documents: not necessary, 2024 year.', 'license': 'apache-2.0', 'size_in_GB': 0.32, 'additional_files': [], 'dim': 768, 'tasks': {}}\n",
      "{'model': 'jinaai/jina-embeddings-v2-base-code', 'sources': {'hf': 'jinaai/jina-embeddings-v2-base-code', 'url': None, '_deprecated_tar_struct': False}, 'model_file': 'onnx/model.onnx', 'description': 'Text embeddings, Unimodal (text), Multilingual (English, 30 programming languages), 8192 input tokens truncation, Prefixes for queries/documents: not necessary, 2024 year.', 'license': 'apache-2.0', 'size_in_GB': 0.64, 'additional_files': [], 'dim': 768, 'tasks': {}}\n",
      "{'model': 'jinaai/jina-embeddings-v2-base-zh', 'sources': {'hf': 'jinaai/jina-embeddings-v2-base-zh', 'url': None, '_deprecated_tar_struct': False}, 'model_file': 'onnx/model.onnx', 'description': 'Text embeddings, Unimodal (text), supports mixed Chinese-English input text, 8192 input tokens truncation, Prefixes for queries/documents: not necessary, 2024 year.', 'license': 'apache-2.0', 'size_in_GB': 0.64, 'additional_files': [], 'dim': 768, 'tasks': {}}\n",
      "{'model': 'jinaai/jina-embeddings-v2-base-es', 'sources': {'hf': 'jinaai/jina-embeddings-v2-base-es', 'url': None, '_deprecated_tar_struct': False}, 'model_file': 'onnx/model.onnx', 'description': 'Text embeddings, Unimodal (text), supports mixed Spanish-English input text, 8192 input tokens truncation, Prefixes for queries/documents: not necessary, 2024 year.', 'license': 'apache-2.0', 'size_in_GB': 0.64, 'additional_files': [], 'dim': 768, 'tasks': {}}\n",
      "{'model': 'jinaai/jina-embeddings-v3', 'sources': {'hf': 'jinaai/jina-embeddings-v3', 'url': None, '_deprecated_tar_struct': False}, 'model_file': 'onnx/model.onnx', 'description': 'Multi-task unimodal (text) embedding model, multi-lingual (~100), 1024 tokens truncation, and 8192 sequence length. Prefixes for queries/documents: not necessary, 2024 year.', 'license': 'cc-by-nc-4.0', 'size_in_GB': 2.29, 'additional_files': ['onnx/model.onnx_data'], 'dim': 1024, 'tasks': {'retrieval.query': 0, 'retrieval.passage': 1, 'separation': 2, 'classification': 3, 'text-matching': 4}}\n"
     ]
    }
   ],
   "source": [
    "for embedding in TextEmbedding.list_supported_models():\n",
    "    if embedding['model'].startswith('jinaai'):\n",
    "        print(embedding) \n",
    "\n",
    "# jinaai/jina-embeddings-v2-small-en 512"
   ]
  },
  {
   "cell_type": "code",
   "execution_count": 22,
   "metadata": {},
   "outputs": [],
   "source": [
    "model_handle = \"jinaai/jina-embeddings-v2-small-en\"\n",
    "EMBEDDING_DIMENSIONALITY = 512"
   ]
  },
  {
   "cell_type": "code",
   "execution_count": 55,
   "metadata": {},
   "outputs": [
    {
     "data": {
      "text/plain": [
       "np.float64(-0.11726373885183883)"
      ]
     },
     "execution_count": 55,
     "metadata": {},
     "output_type": "execute_result"
    }
   ],
   "source": [
    "# Q1\n",
    "from fastembed import TextEmbedding\n",
    "import numpy as np\n",
    "\n",
    "# Initialize the embedding model\n",
    "embedding_model = TextEmbedding(model_name='jinaai/jina-embeddings-v2-small-en')\n",
    "\n",
    "# Embed the query\n",
    "query = 'I just discovered the course. Can I join now?'\n",
    "query_embed = list(embedding_model.embed([query])) # embed returns a generator, convert to list\n",
    "np.min(query_embed)"
   ]
  },
  {
   "cell_type": "code",
   "execution_count": 57,
   "metadata": {},
   "outputs": [
    {
     "data": {
      "text/plain": [
       "np.float64(1.0)"
      ]
     },
     "execution_count": 57,
     "metadata": {},
     "output_type": "execute_result"
    }
   ],
   "source": [
    "np.linalg.norm(query_embed)"
   ]
  },
  {
   "cell_type": "code",
   "execution_count": 58,
   "metadata": {},
   "outputs": [
    {
     "data": {
      "text/plain": [
       "[array([-5.45303910e-02, -7.83451754e-02,  3.13610346e-02,  2.34234938e-02,\n",
       "        -3.06321480e-02, -5.51041640e-02,  2.24726486e-02,  1.50386159e-02,\n",
       "        -1.81159589e-02,  1.80595354e-02, -4.80892277e-03, -7.57395955e-02,\n",
       "        -4.87272162e-03, -9.07717788e-02,  4.83940879e-02, -4.26317430e-02,\n",
       "        -2.61462523e-02, -4.48129135e-02, -2.06926015e-02, -3.79054485e-02,\n",
       "        -3.30329342e-02, -8.02850120e-03,  1.18560351e-02, -3.83721199e-02,\n",
       "         7.26378149e-02, -5.82811752e-02, -7.30890167e-02,  3.40911381e-02,\n",
       "         5.60705346e-02,  5.02684759e-02, -5.99293341e-02,  5.33016566e-02,\n",
       "        -1.79524520e-02,  4.17745107e-03, -2.45427902e-02,  1.32288255e-02,\n",
       "         4.64178315e-02,  1.09963765e-02, -1.01499639e-02, -5.77524144e-03,\n",
       "        -2.83987757e-04,  4.91496354e-02,  1.11214836e-01, -2.76306424e-02,\n",
       "        -6.78923985e-02, -1.85928261e-02, -1.23963205e-01,  1.25745922e-02,\n",
       "         1.65298714e-02,  7.22242999e-03, -2.77237445e-02,  5.18073540e-02,\n",
       "        -5.98604791e-02,  5.27339390e-02,  1.03844069e-02,  4.82091325e-02,\n",
       "        -2.29023271e-02,  1.58799972e-02, -4.80511574e-02,  1.02489420e-02,\n",
       "         1.37884538e-02,  3.87444967e-02, -5.79894389e-02,  5.69139081e-02,\n",
       "        -3.15205466e-02, -2.67498568e-02, -4.48054525e-02, -4.09707528e-02,\n",
       "        -9.20447480e-02, -5.96116114e-03, -5.49335674e-02, -5.34223849e-03,\n",
       "         6.68054796e-02, -5.45217685e-02, -8.69838643e-03,  1.40446580e-02,\n",
       "        -3.96008947e-02,  3.93236777e-02, -1.96751769e-02, -1.63110562e-03,\n",
       "        -6.80347027e-03, -3.31599366e-02,  4.85879098e-03, -3.88989074e-02,\n",
       "        -3.40544531e-03, -5.19890585e-02,  3.08150466e-02, -2.70411367e-02,\n",
       "         6.88027307e-02, -8.59184961e-04, -3.05577805e-02,  8.06859955e-02,\n",
       "        -1.86169462e-02, -6.45328914e-02, -5.04276483e-02, -3.78118179e-02,\n",
       "         5.99760138e-02,  6.87334254e-02,  1.12125145e-02,  1.64548042e-02,\n",
       "         1.13036669e-01, -1.46292137e-02,  1.01782239e-01, -3.40159010e-02,\n",
       "         3.43852197e-02,  3.75869234e-02, -5.58572882e-02,  3.10794386e-03,\n",
       "        -1.16664078e-01, -9.97800929e-03,  1.49959772e-02, -6.87050712e-02,\n",
       "        -3.29115184e-02, -5.93686530e-03, -6.92624496e-02,  1.50800702e-02,\n",
       "         5.85118939e-02, -5.48487730e-02, -2.57178962e-02, -3.56007480e-02,\n",
       "         7.27529618e-05,  5.30002831e-04, -3.35285592e-02,  2.12704915e-02,\n",
       "         4.95065365e-02,  3.66362781e-02, -2.25051651e-03,  2.65128930e-02,\n",
       "        -3.22989748e-02, -6.86251680e-03, -1.34442211e-02, -8.08963593e-03,\n",
       "        -1.29107639e-02,  2.48041304e-02,  1.40144099e-01, -3.86588330e-02,\n",
       "         2.50564993e-02,  3.87349355e-02, -6.14517085e-02,  3.54396652e-02,\n",
       "        -4.25164269e-02, -6.41691297e-02,  4.63289102e-02, -3.24397470e-02,\n",
       "        -2.88255840e-02,  1.30964268e-02,  4.53634735e-02, -2.12360873e-02,\n",
       "        -5.38994126e-02, -1.28040976e-03, -2.08222617e-02,  3.93942239e-02,\n",
       "        -8.17919717e-02,  2.61447044e-02,  4.93714687e-03,  8.39671352e-02,\n",
       "        -2.85633282e-02,  4.62934351e-02,  1.30851209e-02,  4.34111025e-03,\n",
       "        -1.46118558e-02,  5.56021044e-02,  3.25521105e-03, -6.56959115e-02,\n",
       "        -1.24809793e-02, -9.01518203e-03,  4.67927593e-02,  7.14784845e-02,\n",
       "        -3.47358201e-02,  6.19006212e-03,  5.82341834e-02,  3.13632583e-02,\n",
       "        -8.91560601e-02,  2.30164935e-02, -7.31166019e-02, -2.48621926e-02,\n",
       "        -1.95075918e-02,  1.90116477e-02, -3.80645770e-02, -3.41198767e-02,\n",
       "         5.10553868e-02, -3.43794800e-02, -2.66989185e-02,  9.70198846e-03,\n",
       "         1.08240146e-02, -7.85933912e-02, -3.84566545e-02,  1.56839219e-02,\n",
       "         3.80449132e-02, -2.26454215e-02, -4.78609693e-03,  1.15100292e-02,\n",
       "         3.60983990e-03, -1.89996786e-02, -1.79271807e-02,  3.68780998e-02,\n",
       "        -2.10015426e-02,  2.36492999e-02,  1.40563962e-02,  3.52256998e-03,\n",
       "         2.71354043e-02,  7.65226649e-02, -6.01290830e-02,  3.05162466e-02,\n",
       "        -4.58806803e-02,  2.24898489e-02, -2.50920511e-02, -5.63759188e-02,\n",
       "        -2.29451732e-02, -4.27856899e-03,  3.57165200e-02, -3.55258620e-03,\n",
       "         8.91507669e-02,  2.12670499e-02, -3.74735500e-04, -2.24271548e-02,\n",
       "        -2.19664670e-02, -4.18970936e-02,  2.65568245e-02, -3.93783738e-02,\n",
       "        -1.68303559e-03,  1.26468292e-02,  4.43984924e-03,  5.05578818e-02,\n",
       "        -2.44747126e-02, -3.94392525e-02,  1.52638130e-02,  1.28973722e-02,\n",
       "        -3.15465116e-03, -4.72592973e-02,  1.17825071e-01, -5.25536581e-02,\n",
       "        -5.32448209e-02,  1.05159619e-02,  4.58077384e-02, -2.47739596e-02,\n",
       "        -2.57603654e-03, -2.19756015e-02, -3.87667696e-02, -1.36106364e-02,\n",
       "        -4.98464146e-02,  6.12115532e-03,  5.66379675e-02, -3.23384369e-02,\n",
       "         1.20036630e-03,  3.52746076e-02,  5.16079221e-02, -3.62631392e-02,\n",
       "         5.62710732e-02,  5.33073633e-02, -3.63443165e-02, -4.03703435e-02,\n",
       "        -3.61991231e-02, -6.26061193e-02, -8.31568146e-03,  4.13882012e-02,\n",
       "        -2.88730235e-02,  5.22494061e-02, -7.34402096e-02, -3.53566564e-02,\n",
       "         2.09848540e-02,  6.31085469e-02,  4.60987124e-03,  9.63700596e-02,\n",
       "        -9.67375635e-03, -8.95209232e-03, -7.69227039e-02, -9.60892830e-03,\n",
       "         2.14770277e-02,  2.30009416e-02,  3.10541784e-03,  5.05152566e-03,\n",
       "         1.63936497e-02, -2.06681009e-02, -6.06017844e-02, -3.03883046e-02,\n",
       "         4.96442136e-02,  2.03350232e-02,  3.66350307e-02, -3.95295826e-02,\n",
       "        -5.11060232e-02,  3.16693010e-02,  4.38043371e-03,  2.21187518e-02,\n",
       "         5.62608993e-02, -1.41865002e-02,  3.59695902e-02,  7.59521024e-02,\n",
       "         1.06047260e-01,  1.45019870e-03,  6.03235635e-03, -9.00573561e-02,\n",
       "        -5.01267422e-03, -3.23071460e-02, -2.46835273e-03,  8.69799532e-02,\n",
       "         5.06123654e-02,  2.36965597e-02,  8.11533892e-03,  5.54493768e-02,\n",
       "         1.77999371e-02,  3.11199835e-02, -3.55622451e-02, -2.52924785e-02,\n",
       "         2.31455262e-02,  1.59941029e-02,  3.10115284e-02, -1.54522106e-02,\n",
       "        -1.63243516e-02, -6.25963695e-02,  5.73598844e-03, -4.68480917e-02,\n",
       "        -2.48465814e-02,  4.29610457e-02,  5.32248860e-02,  1.77272628e-03,\n",
       "         3.37805621e-02, -8.39864936e-02, -5.38050463e-02,  1.18949403e-02,\n",
       "        -6.61885966e-03, -3.89602026e-02,  5.77476170e-02,  2.07156372e-02,\n",
       "         3.59911751e-02,  5.05872165e-02, -6.44578531e-02,  3.32005148e-03,\n",
       "         1.10723532e-02, -1.86581822e-02, -1.85738347e-02,  1.27307316e-03,\n",
       "        -4.62866677e-02, -7.17191802e-02, -4.19461366e-02, -1.31518471e-03,\n",
       "        -2.92806060e-02, -8.03236536e-02,  1.29327136e-02, -3.37090712e-02,\n",
       "         2.93103877e-02, -3.75802755e-03, -1.44845165e-03,  1.00548268e-01,\n",
       "        -1.00564899e-02, -2.46266084e-02,  4.05392097e-02,  3.35886294e-03,\n",
       "        -5.34469631e-02, -2.54328094e-02, -1.52543565e-02, -1.43709501e-02,\n",
       "        -1.85677102e-02, -2.13968945e-03, -8.73001755e-02, -1.60633672e-02,\n",
       "         3.02461655e-02, -3.49062927e-02, -2.25649469e-02,  1.00616131e-01,\n",
       "         3.00222358e-03, -5.50977632e-02, -2.35539146e-02,  9.52522401e-02,\n",
       "         6.92015740e-02, -2.18485042e-02,  2.49099072e-04, -3.49070637e-02,\n",
       "         4.73735692e-02,  3.60143401e-02,  8.32714785e-02,  4.12549496e-02,\n",
       "         2.54143476e-02, -4.85554927e-02,  2.74004242e-02, -3.80426806e-02,\n",
       "         5.91278058e-02,  2.53244981e-02, -3.36910719e-02, -1.90901620e-02,\n",
       "         2.96261713e-02,  2.43381027e-02, -2.39162588e-02, -4.51288505e-02,\n",
       "        -2.72568399e-02,  1.09330555e-02,  1.86310820e-02, -1.84971593e-03,\n",
       "         9.46877584e-03, -1.15559395e-02, -2.49243960e-02, -3.50724528e-02,\n",
       "        -4.03738711e-02,  4.19630480e-02,  6.67691203e-02, -7.30262246e-02,\n",
       "         7.56360377e-02,  6.06346251e-02, -1.56067190e-03,  2.90626696e-02,\n",
       "        -1.98712924e-02,  2.15630923e-02, -3.38016184e-02, -7.29602207e-03,\n",
       "        -2.44389041e-02, -1.63480178e-02, -7.87498897e-02, -2.56954553e-02,\n",
       "         1.40306685e-02,  3.25408918e-03,  5.29974414e-02,  1.83844408e-02,\n",
       "         3.41865671e-02,  3.95536671e-02, -3.88303159e-02, -7.36927116e-02,\n",
       "        -9.04139928e-02, -4.75587784e-02, -2.62919087e-02,  8.76070294e-03,\n",
       "         1.85204443e-02,  5.71211447e-03, -2.31337541e-02,  3.00751504e-02,\n",
       "         5.58852986e-02,  6.04648625e-03,  4.20379881e-02, -4.43148358e-02,\n",
       "         6.09016349e-02,  2.15545965e-02, -1.55159154e-02, -5.18127229e-02,\n",
       "        -2.88611780e-02,  4.96420758e-02, -1.73781755e-02,  2.22649576e-02,\n",
       "         1.84093130e-02, -5.65759693e-02,  5.26079876e-02, -4.37272852e-03,\n",
       "         9.75568438e-02, -8.76182534e-02,  3.84923355e-02,  3.43069345e-02,\n",
       "         1.00228238e-01,  8.32310949e-02,  1.39729672e-02, -2.92088401e-02,\n",
       "        -2.64612790e-02,  4.50595497e-02,  4.50768234e-02,  6.56265490e-02,\n",
       "        -2.57148618e-02,  4.38141055e-02, -9.09200692e-03,  3.24566841e-02,\n",
       "        -1.00524048e-02, -1.22899829e-01,  2.63783337e-02,  4.24369628e-02,\n",
       "         4.16517040e-02, -5.68288879e-02, -9.15504958e-02,  1.93085895e-02,\n",
       "        -1.13467864e-02, -1.24219423e-02,  2.57254731e-02,  3.38115465e-02,\n",
       "         1.95534897e-02, -9.04632867e-03,  4.81679081e-03, -6.69664599e-02,\n",
       "         1.04124389e-03,  2.12351982e-02,  9.02697048e-02,  3.46080596e-02,\n",
       "         5.17977498e-02,  4.47683248e-02, -6.94026489e-02,  9.75395302e-02,\n",
       "        -4.64396192e-02, -6.05067834e-02, -7.17751507e-02, -6.16598528e-02,\n",
       "        -4.22837017e-02,  6.49299175e-04,  1.48002693e-02, -4.33542933e-03,\n",
       "         9.91974230e-02,  2.36802438e-02, -5.63740218e-02, -6.30382788e-02,\n",
       "         6.47439591e-03, -2.77447410e-02, -4.93521203e-02,  8.95175981e-03,\n",
       "         6.34117002e-03, -3.77701292e-02,  8.46668581e-02,  3.98892612e-02,\n",
       "         4.74573192e-02, -7.41830403e-02,  4.04689408e-02,  6.57271416e-02,\n",
       "        -1.06213743e-02,  2.96078075e-02, -6.05322892e-03, -3.26904222e-02,\n",
       "        -7.25063659e-02,  7.73107396e-02,  5.61753977e-02,  6.20515979e-03])]"
      ]
     },
     "execution_count": 58,
     "metadata": {},
     "output_type": "execute_result"
    }
   ],
   "source": [
    "query2 = 'Can I still join the course after the start date?'\n",
    "query2_embed = list(embedding_model.embed([query2]))\n",
    "query2_embed"
   ]
  },
  {
   "cell_type": "code",
   "execution_count": 65,
   "metadata": {},
   "outputs": [
    {
     "data": {
      "text/plain": [
       "array([-7.63946260e-02, -7.30555505e-02,  5.86501763e-02,  3.92670571e-02,\n",
       "       -1.41797115e-02, -4.68342854e-02,  2.69862822e-02,  3.49039060e-02,\n",
       "        1.53419217e-03, -1.10407363e-02,  5.57556285e-02, -2.88360142e-02,\n",
       "       -4.87239498e-02, -9.90923923e-02,  6.02579764e-02, -1.86105379e-02,\n",
       "       -8.81040139e-03, -3.01994831e-02, -1.42541815e-02, -3.87884212e-02,\n",
       "       -2.76125662e-02, -6.94957533e-03,  3.20653319e-02, -5.17838394e-03,\n",
       "        8.37959894e-02, -8.87329606e-02, -7.30260625e-02,  5.92846802e-02,\n",
       "        4.07805674e-02,  7.72684822e-02, -4.60029697e-02,  3.98426895e-02,\n",
       "        1.74821510e-02,  8.70263712e-03, -3.09291054e-02,  2.20470391e-02,\n",
       "        4.76479896e-02,  1.76566196e-02, -3.62013627e-02, -3.53408062e-02,\n",
       "       -5.92537995e-03,  2.97091202e-02,  8.05883752e-02,  1.07132722e-02,\n",
       "       -5.38192519e-02, -9.62881111e-03, -1.17263739e-01,  3.36546374e-02,\n",
       "        7.05763168e-03,  7.70159791e-03, -5.17482529e-02,  5.46955574e-02,\n",
       "       -7.80289904e-02,  4.21801655e-02,  1.26250977e-02,  5.31339061e-02,\n",
       "       -2.67777188e-02,  1.68820697e-02, -3.75064593e-02,  9.13196419e-03,\n",
       "        2.13696828e-02,  1.60150107e-02, -5.05650168e-02,  5.62205981e-02,\n",
       "       -3.66802752e-02, -3.85416649e-02, -4.21257068e-02, -1.36921605e-02,\n",
       "       -8.58582000e-02,  2.62640812e-02, -6.18555653e-02, -8.85548653e-03,\n",
       "        1.23171107e-01, -6.75609552e-02, -4.34100617e-03,  1.59791480e-02,\n",
       "       -4.54303694e-02,  7.61061035e-02,  1.84935283e-02, -3.07273239e-02,\n",
       "       -4.37180980e-02, -4.74576970e-02, -1.95920213e-02,  1.23776773e-02,\n",
       "       -9.96104568e-03, -6.74156430e-02,  2.54752070e-02,  1.22318157e-02,\n",
       "        5.58628908e-02, -3.14317861e-02, -7.23993812e-03,  6.33249508e-02,\n",
       "        5.72494416e-03, -6.21999926e-02, -3.08616666e-02, -4.27290132e-02,\n",
       "        5.16963715e-02,  3.27879512e-02, -2.44813464e-02,  1.79127801e-02,\n",
       "        9.48254300e-02,  2.18383887e-04,  7.01356128e-02, -2.01385767e-02,\n",
       "        3.64990936e-02,  2.13020106e-02, -5.67677388e-02, -3.08141841e-02,\n",
       "       -1.13907057e-01, -2.70064381e-02,  2.60184816e-03, -3.29073599e-02,\n",
       "       -2.55483216e-02, -3.43663291e-03, -5.98275691e-02,  1.65986045e-02,\n",
       "        7.20702840e-02, -4.90840227e-02, -4.08007783e-02, -1.96389009e-02,\n",
       "        5.16470383e-02,  2.06059173e-02, -1.93461828e-02,  3.72109559e-02,\n",
       "        5.30464167e-02,  7.98735160e-02,  8.71969437e-04, -3.86963865e-03,\n",
       "       -1.05970662e-02,  2.70435984e-03, -2.64808107e-02,  2.43888780e-02,\n",
       "       -2.96613003e-02,  1.24279089e-02,  1.33079558e-01, -3.45950744e-02,\n",
       "       -4.59976034e-03,  3.19832290e-02, -3.03514393e-02,  3.81469801e-02,\n",
       "       -4.84041680e-02, -4.63792157e-02,  4.00906577e-02, -4.82729863e-02,\n",
       "       -1.67069455e-02,  3.55168502e-03,  6.37974835e-02, -5.38861010e-02,\n",
       "       -7.28366643e-02,  1.03431210e-04, -1.55753781e-02,  3.20123469e-02,\n",
       "       -6.41519738e-02, -1.35402483e-02, -1.19589491e-03,  8.67279173e-02,\n",
       "       -7.58013634e-03,  5.23631978e-02,  1.13389494e-02, -2.93922167e-02,\n",
       "       -1.96549197e-02,  7.33475686e-02, -1.86934887e-02, -4.86155360e-02,\n",
       "       -4.39756671e-02, -4.00230242e-02,  7.97138121e-02,  9.00253404e-02,\n",
       "       -5.18778926e-02,  8.56788887e-03,  5.70034858e-02,  2.18162346e-02,\n",
       "       -6.55327841e-02, -1.07204614e-02, -1.09933147e-01, -3.49229900e-02,\n",
       "       -1.67648673e-02,  1.53578421e-02, -4.12044263e-02, -3.24616957e-02,\n",
       "        2.44591813e-02, -3.86447249e-02, -2.74304005e-02,  2.07971664e-02,\n",
       "        2.59328065e-02, -4.47550373e-02, -2.40584152e-02,  7.30849360e-03,\n",
       "        1.92917565e-02, -2.69451117e-02,  1.38715598e-02,  6.96978341e-03,\n",
       "        1.17285654e-02, -1.83301697e-02, -2.18455101e-02,  2.70035214e-03,\n",
       "       -1.10025930e-02,  8.52295180e-03, -1.21902448e-03,  2.31681636e-02,\n",
       "        8.07126958e-03,  6.94039269e-02, -5.96166642e-02,  3.58433548e-02,\n",
       "       -4.35553226e-02,  4.33547736e-02, -4.15783640e-02, -5.66755635e-02,\n",
       "       -5.41887066e-02, -2.39018335e-02,  5.63714821e-03,  2.37437432e-02,\n",
       "        7.10345497e-02,  1.73168487e-02, -3.22589041e-02, -1.94681982e-02,\n",
       "       -1.88142497e-02, -2.30825031e-02,  3.37894944e-02, -1.82798398e-02,\n",
       "        3.88098424e-03,  1.84338045e-02, -4.55277628e-03,  2.63694266e-02,\n",
       "       -1.90359504e-02, -2.69390028e-02,  1.15375980e-02,  1.16613910e-02,\n",
       "       -8.27911303e-03, -3.64428532e-02,  9.96343799e-02, -2.95558942e-02,\n",
       "       -5.38948585e-02, -2.51995032e-02,  1.22391840e-02, -2.27057696e-02,\n",
       "        5.10331226e-03, -6.74026331e-03, -2.43784301e-02,  6.32223970e-04,\n",
       "       -7.28257728e-02,  3.13266362e-02,  6.93626651e-02, -4.75812931e-02,\n",
       "        3.87882214e-03,  3.42483823e-02,  7.59028679e-02, -9.77512922e-03,\n",
       "        4.14942597e-02,  7.31681366e-02, -1.54856581e-02, -1.17918575e-02,\n",
       "       -1.91986853e-02, -9.79173999e-02, -3.14926753e-02,  5.35587215e-02,\n",
       "       -2.07791778e-02,  6.31239230e-02, -5.97242859e-02, -2.34605019e-02,\n",
       "        1.62664047e-02,  5.36607945e-02, -1.37692602e-02,  6.59834105e-02,\n",
       "       -9.24494435e-03, -1.99639826e-03, -4.87563415e-02,  1.39512364e-02,\n",
       "        1.22513624e-02,  2.98668828e-02, -8.00471534e-03, -5.96026749e-03,\n",
       "        2.81731843e-02, -2.13344179e-02, -3.77622793e-02, -2.27153343e-02,\n",
       "        5.60920953e-02,  4.30224526e-03,  3.63267996e-02, -3.72252920e-02,\n",
       "       -4.53949945e-02,  5.85438537e-02,  1.51176422e-02,  1.58622231e-02,\n",
       "        7.37733782e-02, -2.13885598e-02,  3.21582294e-02,  4.98212947e-02,\n",
       "        1.01769604e-01, -1.24236435e-02,  1.43238043e-02, -9.48454560e-02,\n",
       "       -2.63608466e-02, -8.66007188e-03, -9.82907467e-03,  7.52736761e-02,\n",
       "        3.69446387e-02,  3.14539880e-02,  1.04801427e-03,  3.11805728e-02,\n",
       "        1.28968684e-02,  2.60712994e-02, -4.77127535e-02, -2.55665457e-02,\n",
       "        1.08133073e-02,  1.03259874e-02,  3.39032555e-02,  2.75457424e-03,\n",
       "       -4.14582012e-02, -1.88644922e-02, -7.76502173e-03, -2.58755999e-02,\n",
       "       -1.52598044e-02,  3.38669614e-02,  6.38997726e-02,  3.95947359e-02,\n",
       "        6.39279106e-02, -5.20339341e-02, -6.02775764e-02,  1.38304806e-02,\n",
       "       -3.38930505e-02,  8.20156635e-03,  4.29572420e-02,  2.78503586e-02,\n",
       "        4.60315577e-02,  3.15629126e-02, -6.26106865e-02, -2.00963853e-02,\n",
       "       -2.12951154e-02,  7.16957078e-03, -2.15068569e-02,  2.82382423e-02,\n",
       "       -5.88513197e-02, -9.00752448e-02, -4.32891886e-02,  1.63749742e-02,\n",
       "       -6.45089774e-02, -7.18055952e-02,  2.46501169e-02, -2.64174014e-02,\n",
       "        3.86115464e-02,  1.27169565e-02,  8.03685672e-04,  8.49159402e-02,\n",
       "        1.61136302e-02, -4.81793090e-03,  2.04594849e-02,  1.67128650e-02,\n",
       "       -3.03005825e-02, -1.24897047e-02, -3.63357728e-02,  1.44468333e-03,\n",
       "       -4.16270567e-02, -1.42457325e-02, -8.83564826e-02,  6.22003659e-03,\n",
       "       -2.39217371e-02, -7.03374646e-02, -1.11459769e-02,  1.11177866e-01,\n",
       "        6.87285555e-03, -7.54896071e-02, -1.73166835e-02,  6.21763840e-02,\n",
       "        4.25542051e-02, -1.69422625e-02, -1.63471712e-02, -3.44401454e-02,\n",
       "        4.77698132e-02,  2.33155298e-02,  8.94857826e-02,  1.42584208e-02,\n",
       "        1.43973414e-02, -5.88510365e-02,  3.24906040e-02, -3.99427283e-02,\n",
       "        4.31553610e-02, -7.62977668e-04,  1.45717973e-04, -1.85997997e-02,\n",
       "        1.81445612e-02,  1.57167364e-02,  1.29852596e-02, -5.66555449e-02,\n",
       "       -5.92251874e-02,  2.17671620e-02, -1.70178640e-02,  2.31958723e-02,\n",
       "        5.17287716e-02,  3.37852959e-03, -4.31143234e-02, -4.11303191e-02,\n",
       "       -3.27946610e-02,  2.10255619e-02,  4.65154831e-02, -7.14069534e-02,\n",
       "        6.12375013e-02,  5.74542284e-02, -1.79589860e-02,  7.42588820e-02,\n",
       "       -7.82925929e-03,  2.00935910e-02, -4.51636184e-02, -8.47051140e-03,\n",
       "       -4.02671006e-02, -3.99867475e-02, -7.70418961e-02, -1.81935777e-02,\n",
       "        2.48719998e-02,  1.00413838e-02,  5.88155492e-02,  1.62364723e-02,\n",
       "        6.73376058e-02,  1.34455565e-02, -3.37173721e-02, -7.30230081e-02,\n",
       "       -6.79930628e-02, -2.74973249e-02, -3.99597450e-02,  2.44650646e-02,\n",
       "        1.31535110e-02,  2.45552779e-03, -3.60949438e-02,  2.72918057e-02,\n",
       "        6.22414340e-02,  7.20206119e-03,  2.80186718e-02, -3.16789369e-02,\n",
       "        5.00258220e-02,  3.00860520e-02,  7.12026124e-03, -3.76218121e-02,\n",
       "       -4.77905406e-02,  3.03310049e-02, -7.07371730e-02,  4.68780653e-02,\n",
       "        2.32905925e-02, -8.25114015e-02,  2.57834102e-02, -8.21667654e-03,\n",
       "        1.05564397e-01, -9.76066944e-02,  3.49954042e-02,  2.96988144e-02,\n",
       "        6.05656990e-02,  9.99905877e-02,  6.00288395e-02, -2.74579383e-02,\n",
       "       -3.83101976e-02,  4.98680448e-02,  9.85788765e-03,  5.27928464e-02,\n",
       "       -4.71740333e-02,  2.29061163e-02, -1.41790659e-02, -2.21464944e-03,\n",
       "       -1.27322523e-02, -1.00020015e-01,  2.18197615e-02,  2.71504457e-02,\n",
       "        3.33837602e-02, -2.58465315e-02, -3.42772881e-02, -1.70145880e-02,\n",
       "        8.48108924e-03,  2.40059520e-02,  5.04427584e-02, -7.67204713e-03,\n",
       "        6.80716881e-02, -1.75598061e-02, -1.96400559e-02, -8.53397784e-02,\n",
       "       -3.29056414e-03,  4.06993761e-02,  9.23691839e-02,  1.29570486e-02,\n",
       "        5.61266639e-02,  4.19532063e-02, -5.81196839e-02,  9.31649506e-02,\n",
       "       -8.03499941e-02, -5.46839092e-02, -6.23098193e-02, -8.77602426e-02,\n",
       "       -3.27637979e-02, -3.68523842e-02,  2.54524859e-02, -3.51777163e-03,\n",
       "        6.20159225e-02,  3.89112303e-02, -4.91863775e-02, -6.71836526e-02,\n",
       "       -1.25448864e-02, -3.02974540e-02, -4.00670636e-02,  4.24238795e-02,\n",
       "        2.46685657e-02, -4.83336442e-02,  6.88141229e-02,  4.17306001e-02,\n",
       "        4.73113083e-02, -7.63803321e-02,  1.48983892e-02,  4.59311499e-02,\n",
       "       -2.27894423e-02,  7.15364112e-02, -2.08668148e-02, -4.33649954e-02,\n",
       "       -7.64807886e-02,  7.62216942e-02,  3.91963105e-02,  1.22587277e-02])"
      ]
     },
     "execution_count": 65,
     "metadata": {},
     "output_type": "execute_result"
    }
   ],
   "source": [
    "query_embed[0]"
   ]
  },
  {
   "cell_type": "code",
   "execution_count": null,
   "metadata": {},
   "outputs": [],
   "source": [
    "def cosine_similarity(vec1, vec2):\n",
    "    vec1 = vec1.squeeze() # Ensure 1D\n",
    "    vec2 = vec2.squeeze() # Ensure 1D\n",
    "\n",
    "    dot_product = np.dot(vec1, vec2)\n",
    "    norm_vec1 = np.linalg.norm(vec1)\n",
    "    norm_vec2 = np.linalg.norm(vec2)\n",
    "\n",
    "    if norm_vec1 == 0 or norm_vec2 == 0:\n",
    "        return 0.0\n",
    "    return dot_product / (norm_vec1 * norm_vec2)"
   ]
  },
  {
   "cell_type": "code",
   "execution_count": 67,
   "metadata": {},
   "outputs": [
    {
     "data": {
      "text/plain": [
       "np.float64(0.9008528895674548)"
      ]
     },
     "execution_count": 67,
     "metadata": {},
     "output_type": "execute_result"
    }
   ],
   "source": [
    "# Q2\n",
    "cosine_similarity(query_embed[0], query2_embed[0])"
   ]
  },
  {
   "cell_type": "code",
   "execution_count": 68,
   "metadata": {},
   "outputs": [],
   "source": [
    "documents = [{'text': \"Yes, even if you don't register, you're still eligible to submit the homeworks.\\nBe aware, however, that there will be deadlines for turning in the final projects. So don't leave everything for the last minute.\",\n",
    "  'section': 'General course-related questions',\n",
    "  'question': 'Course - Can I still join the course after the start date?',\n",
    "  'course': 'data-engineering-zoomcamp'},\n",
    " {'text': 'Yes, we will keep all the materials after the course finishes, so you can follow the course at your own pace after it finishes.\\nYou can also continue looking at the homeworks and continue preparing for the next cohort. I guess you can also start working on your final capstone project.',\n",
    "  'section': 'General course-related questions',\n",
    "  'question': 'Course - Can I follow the course after it finishes?',\n",
    "  'course': 'data-engineering-zoomcamp'},\n",
    " {'text': \"The purpose of this document is to capture frequently asked technical questions\\nThe exact day and hour of the course will be 15th Jan 2024 at 17h00. The course will start with the first  “Office Hours'' live.1\\nSubscribe to course public Google Calendar (it works from Desktop only).\\nRegister before the course starts using this link.\\nJoin the course Telegram channel with announcements.\\nDon’t forget to register in DataTalks.Club's Slack and join the channel.\",\n",
    "  'section': 'General course-related questions',\n",
    "  'question': 'Course - When will the course start?',\n",
    "  'course': 'data-engineering-zoomcamp'},\n",
    " {'text': 'You can start by installing and setting up all the dependencies and requirements:\\nGoogle cloud account\\nGoogle Cloud SDK\\nPython 3 (installed with Anaconda)\\nTerraform\\nGit\\nLook over the prerequisites and syllabus to see if you are comfortable with these subjects.',\n",
    "  'section': 'General course-related questions',\n",
    "  'question': 'Course - What can I do before the course starts?',\n",
    "  'course': 'data-engineering-zoomcamp'},\n",
    " {'text': 'Star the repo! Share it with friends if you find it useful ❣️\\nCreate a PR if you see you can improve the text or the structure of the repository.',\n",
    "  'section': 'General course-related questions',\n",
    "  'question': 'How can we contribute to the course?',\n",
    "  'course': 'data-engineering-zoomcamp'}]"
   ]
  },
  {
   "cell_type": "code",
   "execution_count": 69,
   "metadata": {},
   "outputs": [
    {
     "name": "stdout",
     "output_type": "stream",
     "text": [
      "Similarity with Document 0: 0.7630\n",
      "Similarity with Document 1: 0.8182\n",
      "Similarity with Document 2: 0.8085\n",
      "Similarity with Document 3: 0.7133\n",
      "Similarity with Document 4: 0.7304\n",
      "\n",
      "Document index with the highest similarity: 1\n",
      "Highest similarity value: 0.8182\n"
     ]
    }
   ],
   "source": [
    "# --- Query Embedding ---\n",
    "query_vector = query_embed[0] # Shape (1, 512)\n",
    "\n",
    "# --- Document Embeddings ---\n",
    "document_texts = [doc['text'] for doc in documents]\n",
    "document_embeddings_list = list(embedding_model.embed(document_texts))\n",
    "\n",
    "# Convert the list of (1, 512) arrays to a single (num_documents, 512) matrix\n",
    "# This is where the hint V.dot(q) comes into play if you wanted to use it.\n",
    "# However, for clarity, we'll iterate and use our cosine_similarity function.\n",
    "document_embedding_matrix = np.vstack([emb.squeeze() for emb in document_embeddings_list]) # Shape (5, 512)\n",
    "\n",
    "# --- Calculate Cosine Similarities ---\n",
    "similarities = []\n",
    "for i, doc_vector_2d in enumerate(document_embeddings_list):\n",
    "    # doc_vector_2d is still (1, 512), the cosine_similarity function handles squeezing\n",
    "    sim = cosine_similarity(query_vector, doc_vector_2d)\n",
    "    similarities.append(sim)\n",
    "    print(f\"Similarity with Document {i}: {sim:.4f}\")\n",
    "\n",
    "# Find the document index with the highest similarity\n",
    "highest_similarity_index = np.argmax(similarities)\n",
    "max_similarity_value = similarities[highest_similarity_index]\n",
    "\n",
    "print(f\"\\nDocument index with the highest similarity: {highest_similarity_index}\")\n",
    "print(f\"Highest similarity value: {max_similarity_value:.4f}\")"
   ]
  },
  {
   "cell_type": "code",
   "execution_count": 70,
   "metadata": {},
   "outputs": [
    {
     "name": "stdout",
     "output_type": "stream",
     "text": [
      "Similarity with Document 0: 0.8515\n",
      "Similarity with Document 1: 0.8437\n",
      "Similarity with Document 2: 0.8408\n",
      "Similarity with Document 3: 0.7755\n",
      "Similarity with Document 4: 0.8086\n",
      "\n",
      "Document index with the highest similarity: 0\n",
      "Highest similarity value: 0.8515\n"
     ]
    }
   ],
   "source": [
    "# --- Query Embedding ---\n",
    "query_vector = query_embed[0] # Shape (1, 512)\n",
    "\n",
    "# --- Document Embeddings ---\n",
    "document_texts = [doc['question'] + ' ' + doc['text'] for doc in documents]\n",
    "document_embeddings_list = list(embedding_model.embed(document_texts))\n",
    "\n",
    "# Convert the list of (1, 512) arrays to a single (num_documents, 512) matrix\n",
    "# This is where the hint V.dot(q) comes into play if you wanted to use it.\n",
    "# However, for clarity, we'll iterate and use our cosine_similarity function.\n",
    "document_embedding_matrix = np.vstack([emb.squeeze() for emb in document_embeddings_list]) # Shape (5, 512)\n",
    "\n",
    "# --- Calculate Cosine Similarities ---\n",
    "similarities = []\n",
    "for i, doc_vector_2d in enumerate(document_embeddings_list):\n",
    "    # doc_vector_2d is still (1, 512), the cosine_similarity function handles squeezing\n",
    "    sim = cosine_similarity(query_vector, doc_vector_2d)\n",
    "    similarities.append(sim)\n",
    "    print(f\"Similarity with Document {i}: {sim:.4f}\")\n",
    "\n",
    "# Find the document index with the highest similarity\n",
    "highest_similarity_index = np.argmax(similarities)\n",
    "max_similarity_value = similarities[highest_similarity_index]\n",
    "\n",
    "print(f\"\\nDocument index with the highest similarity: {highest_similarity_index}\")\n",
    "print(f\"Highest similarity value: {max_similarity_value:.4f}\")\n",
    "\n",
    "\n",
    "\n"
   ]
  },
  {
   "cell_type": "code",
   "execution_count": 73,
   "metadata": {},
   "outputs": [
    {
     "data": {
      "text/plain": [
       "384"
      ]
     },
     "execution_count": 73,
     "metadata": {},
     "output_type": "execute_result"
    }
   ],
   "source": [
    "# Q5\n",
    "min_dim = min([embedding['dim'] for embedding in TextEmbedding.list_supported_models()])\n",
    "min_dim"
   ]
  },
  {
   "cell_type": "code",
   "execution_count": null,
   "metadata": {},
   "outputs": [
    {
     "name": "stdout",
     "output_type": "stream",
     "text": [
      "{'model': 'BAAI/bge-small-en', 'sources': {'hf': 'Qdrant/bge-small-en', 'url': 'https://storage.googleapis.com/qdrant-fastembed/BAAI-bge-small-en.tar.gz', '_deprecated_tar_struct': True}, 'model_file': 'model_optimized.onnx', 'description': 'Text embeddings, Unimodal (text), English, 512 input tokens truncation, Prefixes for queries/documents: necessary, 2023 year.', 'license': 'mit', 'size_in_GB': 0.13, 'additional_files': [], 'dim': 384, 'tasks': {}}\n",
      "{'model': 'BAAI/bge-small-en-v1.5', 'sources': {'hf': 'qdrant/bge-small-en-v1.5-onnx-q', 'url': None, '_deprecated_tar_struct': False}, 'model_file': 'model_optimized.onnx', 'description': 'Text embeddings, Unimodal (text), English, 512 input tokens truncation, Prefixes for queries/documents: not so necessary, 2023 year.', 'license': 'mit', 'size_in_GB': 0.067, 'additional_files': [], 'dim': 384, 'tasks': {}}\n",
      "{'model': 'snowflake/snowflake-arctic-embed-xs', 'sources': {'hf': 'snowflake/snowflake-arctic-embed-xs', 'url': None, '_deprecated_tar_struct': False}, 'model_file': 'onnx/model.onnx', 'description': 'Text embeddings, Unimodal (text), English, 512 input tokens truncation, Prefixes for queries/documents: necessary, 2024 year.', 'license': 'apache-2.0', 'size_in_GB': 0.09, 'additional_files': [], 'dim': 384, 'tasks': {}}\n",
      "{'model': 'snowflake/snowflake-arctic-embed-s', 'sources': {'hf': 'snowflake/snowflake-arctic-embed-s', 'url': None, '_deprecated_tar_struct': False}, 'model_file': 'onnx/model.onnx', 'description': 'Text embeddings, Unimodal (text), English, 512 input tokens truncation, Prefixes for queries/documents: necessary, 2024 year.', 'license': 'apache-2.0', 'size_in_GB': 0.13, 'additional_files': [], 'dim': 384, 'tasks': {}}\n",
      "{'model': 'sentence-transformers/all-MiniLM-L6-v2', 'sources': {'hf': 'qdrant/all-MiniLM-L6-v2-onnx', 'url': 'https://storage.googleapis.com/qdrant-fastembed/sentence-transformers-all-MiniLM-L6-v2.tar.gz', '_deprecated_tar_struct': True}, 'model_file': 'model.onnx', 'description': 'Text embeddings, Unimodal (text), English, 256 input tokens truncation, Prefixes for queries/documents: not necessary, 2021 year.', 'license': 'apache-2.0', 'size_in_GB': 0.09, 'additional_files': [], 'dim': 384, 'tasks': {}}\n",
      "{'model': 'sentence-transformers/paraphrase-multilingual-MiniLM-L12-v2', 'sources': {'hf': 'qdrant/paraphrase-multilingual-MiniLM-L12-v2-onnx-Q', 'url': None, '_deprecated_tar_struct': False}, 'model_file': 'model_optimized.onnx', 'description': 'Text embeddings, Unimodal (text), Multilingual (~50 languages), 512 input tokens truncation, Prefixes for queries/documents: not necessary, 2019 year.', 'license': 'apache-2.0', 'size_in_GB': 0.22, 'additional_files': [], 'dim': 384, 'tasks': {}}\n"
     ]
    }
   ],
   "source": [
    "for embedding in TextEmbedding.list_supported_models():\n",
    "    if embedding['dim'] == min_dim:\n",
    "        print(embedding)\n",
    "\n",
    "# BAAI/bge-small-en"
   ]
  },
  {
   "cell_type": "code",
   "execution_count": 5,
   "metadata": {},
   "outputs": [
    {
     "data": {
      "text/plain": [
       "UpdateResult(operation_id=0, status=<UpdateStatus.COMPLETED: 'completed'>)"
      ]
     },
     "execution_count": 5,
     "metadata": {},
     "output_type": "execute_result"
    }
   ],
   "source": [
    "import requests \n",
    "\n",
    "client = QdrantClient(\"http://localhost:6333\") \n",
    "\n",
    "docs_url = 'https://github.com/alexeygrigorev/llm-rag-workshop/raw/main/notebooks/documents.json'\n",
    "docs_response = requests.get(docs_url)\n",
    "documents_raw = docs_response.json()\n",
    "\n",
    "\n",
    "documents = []\n",
    "\n",
    "for course in documents_raw:\n",
    "    course_name = course['course']\n",
    "    if course_name != 'machine-learning-zoomcamp':\n",
    "        continue\n",
    "\n",
    "    for doc in course['documents']:\n",
    "        doc['course'] = course_name\n",
    "        documents.append(doc)\n",
    "\n",
    "\n",
    "model_handle = \"BAAI/bge-small-en\"\n",
    "EMBEDDING_DIMENSIONALITY = 384\n",
    "\n",
    "# Define the collection name\n",
    "collection_name = \"mlzoomcamp-rag\"\n",
    "\n",
    "# Create the collection with specified vector parameters\n",
    "client.create_collection(\n",
    "    collection_name=collection_name,\n",
    "    vectors_config=models.VectorParams(\n",
    "        size=EMBEDDING_DIMENSIONALITY,  # Dimensionality of the vectors\n",
    "        distance=models.Distance.COSINE  # Distance metric for similarity search\n",
    "    )\n",
    ")\n",
    "\n",
    "points = []\n",
    "id = 0\n",
    "\n",
    "\n",
    "for doc in documents:\n",
    "\n",
    "    point = models.PointStruct(\n",
    "        id=id,\n",
    "        vector=models.Document(text=doc['question']+' '+ doc['text'], model=model_handle),\n",
    "        payload={\n",
    "            \"text\": doc['text'],\n",
    "            \"section\": doc['section'],\n",
    "            \"question\": doc['question']\n",
    "        } #save all needed metadata fields\n",
    "    )\n",
    "    points.append(point)\n",
    "\n",
    "    id += 1\n",
    "\n",
    "client.upsert(\n",
    "collection_name=collection_name,\n",
    "points=points\n",
    ")\n",
    "\n"
   ]
  },
  {
   "cell_type": "code",
   "execution_count": 6,
   "metadata": {},
   "outputs": [
    {
     "data": {
      "text/plain": [
       "QueryResponse(points=[ScoredPoint(id=14, version=0, score=0.87031734, payload={'text': 'Yes, you can. You won’t be able to submit some of the homeworks, but you can still take part in the course.\\nIn order to get a certificate, you need to submit 2 out of 3 course projects and review 3 peers’ Projects by the deadline. It means that if you join the course at the end of November and manage to work on two projects, you will still be eligible for a certificate.', 'section': 'General course-related questions', 'question': 'The course has already started. Can I still join it?'}, vector=None, shard_key=None, order_value=None)])"
      ]
     },
     "execution_count": 6,
     "metadata": {},
     "output_type": "execute_result"
    }
   ],
   "source": [
    "def search(query, limit=1):\n",
    "\n",
    "    results = client.query_points(\n",
    "        collection_name=collection_name,\n",
    "        query=models.Document(\n",
    "            text=query,\n",
    "            model=model_handle \n",
    "        ),\n",
    "        limit=limit, # top closest matches\n",
    "        with_payload=True #to get metadata in the results\n",
    "    )\n",
    "\n",
    "    return results\n",
    "\n",
    "question = 'I just discovered the course. Can I join now?'\n",
    "result = search(question)\n",
    "result"
   ]
  },
  {
   "cell_type": "code",
   "execution_count": null,
   "metadata": {},
   "outputs": [],
   "source": []
  }
 ],
 "metadata": {
  "kernelspec": {
   "display_name": "Python 3",
   "language": "python",
   "name": "python3"
  },
  "language_info": {
   "codemirror_mode": {
    "name": "ipython",
    "version": 3
   },
   "file_extension": ".py",
   "mimetype": "text/x-python",
   "name": "python",
   "nbconvert_exporter": "python",
   "pygments_lexer": "ipython3",
   "version": "3.12.1"
  }
 },
 "nbformat": 4,
 "nbformat_minor": 2
}
